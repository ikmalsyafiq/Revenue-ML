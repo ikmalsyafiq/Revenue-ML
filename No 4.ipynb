{
 "cells": [
  {
   "cell_type": "code",
   "execution_count": 29,
   "id": "25a3219c",
   "metadata": {},
   "outputs": [],
   "source": [
    "import numpy as np\n",
    "import pandas as pd\n",
    "from scipy.stats import ttest_rel\n",
    "import numpy as np, statsmodels.stats.api as sms"
   ]
  },
  {
   "cell_type": "markdown",
   "id": "e56a8fa5",
   "metadata": {},
   "source": [
    "a) Convert the above information into a numpy array and compute the average difference between the first table and the second table.\n"
   ]
  },
  {
   "cell_type": "markdown",
   "id": "682461a2",
   "metadata": {},
   "source": [
    "Week\n",
    "1\n",
    "2\n",
    "3\n",
    "4\n",
    "5\n",
    "6\n",
    "7\n",
    "8\n",
    "9\n",
    "10\n",
    "11\n",
    "12\n",
    "Count\n",
    "3100\n",
    "2800\n",
    "1900\n",
    "2400\n",
    "3200\n",
    "2700\n",
    "1600\n",
    "4100\n",
    "2300\n",
    "3200\n",
    "2900\n",
    "3300\n",
    "\n",
    "\n",
    "\n",
    "Week\n",
    "13\n",
    "14\n",
    "15\n",
    "16\n",
    "17\n",
    "18\n",
    "19\n",
    "20\n",
    "21\n",
    "22\n",
    "23\n",
    "24\n",
    "Count\n",
    "2300\n",
    "2100\n",
    "1900\n",
    "2400\n",
    "3500\n",
    "1700\n",
    "1800\n",
    "2400\n",
    "3300\n",
    "2700\n",
    "2100\n",
    "2300\n",
    "\n"
   ]
  },
  {
   "cell_type": "code",
   "execution_count": 27,
   "id": "e28b43c3",
   "metadata": {},
   "outputs": [
    {
     "name": "stdout",
     "output_type": "stream",
     "text": [
      "Average difference = 416.6666666666667\n"
     ]
    }
   ],
   "source": [
    "before_wl = np.array([3100, 2800, 1900, 2400, 3200, 2700, 1600, 4100, 2300, 3200, 2900, 3300])\n",
    "after_wl = np.array([2300, 2100, 1900, 2400, 3500, 1700, 1800, 2400, 3300, 2700, 2100, 2300])\n",
    "average_diff = np.mean(before_wl - after_wl)\n",
    "print('Average difference = ' + str(average_diff))"
   ]
  },
  {
   "cell_type": "markdown",
   "id": "3add0c69",
   "metadata": {},
   "source": [
    "b) Could the difference legit and not due to chance? Use a statistical approach to demonstrate your assumptions.\n"
   ]
  },
  {
   "cell_type": "markdown",
   "id": "9fab10cc",
   "metadata": {},
   "source": [
    "Since there is only 2 groups and sample less than 30 we use paired t test and we want to compare before and after result."
   ]
  },
  {
   "cell_type": "code",
   "execution_count": 28,
   "id": "634d38c4",
   "metadata": {},
   "outputs": [
    {
     "name": "stdout",
     "output_type": "stream",
     "text": [
      "p-value 0.07562902369235382\n",
      "we accept null hypothesis and the difference is due to chances at CI 95%\n",
      "we reject null hypothesis and the difference is legit at CI 90%\n"
     ]
    }
   ],
   "source": [
    "ttest,pval = ttest_rel(after_wl,before_wl)\n",
    "print(\"p-value\",pval)\n",
    "if pval <0.05:\n",
    "  print(\"we reject null hypothesis and the difference is legit at CI 95%\")\n",
    "else:\n",
    "  print(\"we accept null hypothesis and the difference is due to chances at CI 95%\")\n",
    "\n",
    "if pval <0.1:\n",
    "  print(\"we reject null hypothesis and the difference is legit at CI 90%\")\n",
    "else:\n",
    "  print(\"we accept null hypothesis and the difference is due to chances at CI 90%\")"
   ]
  },
  {
   "cell_type": "markdown",
   "id": "a6067d0f",
   "metadata": {},
   "source": [
    "c) Because the firm already spent vast amounts of money, is the difference in the number of adblocker detected for the next 3 months statistically significant and worth the investment? You may provide your opinion here.\n"
   ]
  },
  {
   "cell_type": "markdown",
   "id": "66c7b681",
   "metadata": {},
   "source": [
    "In my opinion, since it is not very satistically significant at confidence interval 95%, it is not worth the investment."
   ]
  },
  {
   "cell_type": "markdown",
   "id": "fad2ff85",
   "metadata": {},
   "source": [
    "d)What’s the confidence intervals of the average difference? You may use 90% or 95% percentile for confidence intervals, state this percentile in the solution.\n",
    "\n"
   ]
  },
  {
   "cell_type": "code",
   "execution_count": 30,
   "id": "a703a950",
   "metadata": {},
   "outputs": [
    {
     "name": "stdout",
     "output_type": "stream",
     "text": [
      "Confidence Interval of average difference for 95% (-108.61230155055682, 941.9456348838899)\n",
      "Confidence Interval of average difference for 90% (-18.030717439144894, 851.3640507724779)\n"
     ]
    }
   ],
   "source": [
    "cm = sms.CompareMeans(sms.DescrStatsW(before_wl), sms.DescrStatsW(after_wl))\n",
    "CI_95 = cm.tconfint_diff(alpha = 0.05, usevar='unequal')\n",
    "CI_90 = cm.tconfint_diff(alpha = 0.1, usevar='unequal')\n",
    "print (\"Confidence Interval of average difference for 95% \" + str(CI_95))\n",
    "print (\"Confidence Interval of average difference for 90% \" + str(CI_90))"
   ]
  }
 ],
 "metadata": {
  "kernelspec": {
   "display_name": "Python 3 (ipykernel)",
   "language": "python",
   "name": "python3"
  },
  "language_info": {
   "codemirror_mode": {
    "name": "ipython",
    "version": 3
   },
   "file_extension": ".py",
   "mimetype": "text/x-python",
   "name": "python",
   "nbconvert_exporter": "python",
   "pygments_lexer": "ipython3",
   "version": "3.9.7"
  }
 },
 "nbformat": 4,
 "nbformat_minor": 5
}
